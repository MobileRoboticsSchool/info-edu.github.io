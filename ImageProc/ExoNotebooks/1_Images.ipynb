{
 "cells": [
  {
   "cell_type": "markdown",
   "metadata": {},
   "source": [
    "# Introduction à la  manipulation d'images\n",
    "\n",
    "\n",
    "## objectifs\n",
    "\n",
    "L'objectif de ce cours est de vous familiariser aux bases du traitement d'images. L'objectif sera d'abord de découvrir de quelle manière les images sont généralement représentées de façon numérique en programmant des outils permettant de dessiner des motifs simples sur une image. Suite à ça l'objectif sera de réinvestir ces connaissances et compétences dans des exercices de traitement du signal permettant d'aller jusqu'à réaliser de la soustraction de fond dans une séquence d'iamges\n",
    "\n",
    "## Utilisation des librairies standards\n",
    "\n",
    "Pour manipuler des images et les visualiser sur un notebook, il est classique de commencer par utiliser deux librairies."
   ]
  },
  {
   "cell_type": "code",
   "execution_count": 62,
   "metadata": {},
   "outputs": [],
   "source": [
    "import numpy as np # Pour manipuler des tableaux de nombres\n",
    "import matplotlib.pyplot as plt # pour afficher des images"
   ]
  },
  {
   "cell_type": "markdown",
   "metadata": {},
   "source": [
    "Une image noir et blanc et une grille de valeurs sur deux dimensions. Chaque valeur de cette grille représente l'intensité lumineuse à une certaine abscisse et une certaine ordonnée. Commençons par définir une telle grille plein de zéros grâce à la librairie numpy."
   ]
  },
  {
   "cell_type": "code",
   "execution_count": 63,
   "metadata": {},
   "outputs": [
    {
     "name": "stdout",
     "output_type": "stream",
     "text": [
      "type(img): <class 'numpy.ndarray'>\n",
      "img.shape: (12, 16)\n"
     ]
    }
   ],
   "source": [
    "# Creation d'une image noire de taille hauteur x largeur\n",
    "# (ou plus précisément d'un tableau de hauteur x largeur nombres tous égaux à zéros\n",
    "# c'est comme une liste à deux dimensions)\n",
    "hauteur = 12\n",
    "largeur = 16\n",
    "img = np.zeros((hauteur,largeur))#.astype(np.int8)\n",
    "\n",
    "# Affichage du type de img\n",
    "print(\"type(img): \"+str(type(img)))\n",
    "# Affichage de la taille d'une image\n",
    "print(\"img.shape: \"+str(img.shape))"
   ]
  },
  {
   "cell_type": "markdown",
   "metadata": {},
   "source": [
    "Comme on le voit, la variable *img* est de type *nbnumpy* ce qui correspond à un tableau à N-dimensions, avec ici *N = 2*. Ce type vient avec certains attributs telle que *shape* qui nous donne sa taille, et des méthodes telles que *transpose()* qui nous permettent de retourner les axes x et y.\n",
    "\n",
    "La fonction *print()* accepte comme argument les *nbarray*, ce qui nous permettra de voir les valeurs qu'il y a dans notre image. Si on regarde bien le résultat, on voit que cela correspond à une liste de liste comme nous les avions vu dans les cours précédents."
   ]
  },
  {
   "cell_type": "code",
   "execution_count": 64,
   "metadata": {},
   "outputs": [
    {
     "name": "stdout",
     "output_type": "stream",
     "text": [
      "[[0. 0. 0. 0. 0. 0. 0. 0. 0. 0. 0. 0. 0. 0. 0. 0.]\n",
      " [0. 0. 0. 0. 0. 0. 0. 0. 0. 0. 0. 0. 0. 0. 0. 0.]\n",
      " [0. 0. 0. 0. 0. 0. 0. 0. 0. 0. 0. 0. 0. 0. 0. 0.]\n",
      " [0. 0. 0. 0. 0. 0. 0. 0. 0. 0. 0. 0. 0. 0. 0. 0.]\n",
      " [0. 0. 0. 0. 0. 0. 0. 0. 0. 0. 0. 0. 0. 0. 0. 0.]\n",
      " [0. 0. 0. 0. 0. 0. 0. 0. 0. 0. 0. 0. 0. 0. 0. 0.]\n",
      " [0. 0. 0. 0. 0. 0. 0. 0. 0. 0. 0. 0. 0. 0. 0. 0.]\n",
      " [0. 0. 0. 0. 0. 0. 0. 0. 0. 0. 0. 0. 0. 0. 0. 0.]\n",
      " [0. 0. 0. 0. 0. 0. 0. 0. 0. 0. 0. 0. 0. 0. 0. 0.]\n",
      " [0. 0. 0. 0. 0. 0. 0. 0. 0. 0. 0. 0. 0. 0. 0. 0.]\n",
      " [0. 0. 0. 0. 0. 0. 0. 0. 0. 0. 0. 0. 0. 0. 0. 0.]\n",
      " [0. 0. 0. 0. 0. 0. 0. 0. 0. 0. 0. 0. 0. 0. 0. 0.]]\n"
     ]
    }
   ],
   "source": [
    "print(img)"
   ]
  },
  {
   "cell_type": "markdown",
   "metadata": {},
   "source": [
    "Mais il sera bien évidement utile d'afficher l'image comme une image et non comme un tableau de valeur. Malheureusement cela n'est pas offert par la librairie numpy. Cela fait sens en même temps car elle est dédiée au calcul numérique. Pour afficher une image on utilisera une librarie dédiée à la visualisation de donnée qui s'appelle matplotlib de cette manière:"
   ]
  },
  {
   "cell_type": "code",
   "execution_count": 65,
   "metadata": {},
   "outputs": [
    {
     "data": {
      "image/png": "[encoded data removed]",
      "text/plain": [
       "<Figure size 432x288 with 1 Axes>"
      ]
     },
     "metadata": {
      "needs_background": "light"
     },
     "output_type": "display_data"
    }
   ],
   "source": [
    "# Affichage de l'image\n",
    "plt.imshow(img, cmap='gray',vmin = 0, vmax = 255)\n",
    "plt.show()"
   ]
  },
  {
   "cell_type": "markdown",
   "metadata": {},
   "source": [
    "Remarquez qu'en traitement d'images il est standard de mettre l'origine de l'image en haut à gauche, comme pour les matrices en mathématiques.\n",
    "\n",
    "Remarquez également que la taille de l'image rendu par l'attribut shape a deux éléments qui sont mis entre parenthèses. On appelle cela un tuple. C'est un type similaire aux listes. On peut accéder aux deux éléments grâce aux crochets []. Par contre on ne pourra pas utiliser la fonction *append()* avec, car le nombre d'éléments est inchangeable, c'est la différence principale."
   ]
  },
  {
   "cell_type": "markdown",
   "metadata": {},
   "source": [
    "---\n",
    "### Exercice 1\n",
    "\n",
    "*Définir une fonction `printSize(image)` qui prend une image (plus précisément une variable de type np.ndarray) en argument et affiche sa taille comme cela: \"La taille de l'image est de 32 x 24 pixels\".*\n",
    "\n",
    "---"
   ]
  },
  {
   "cell_type": "markdown",
   "metadata": {},
   "source": [
    "# Représentation des images au format numérique\n",
    "\n",
    "Les images numériques sont représentées de deux façons: soit elles sont pixelisées, soit elles sont au format vectoriel. Ici nous nous intéresserons au **format pixel**. Les images pixelisées sont découpées sous forme d'une grille de pixels, et pour chaque pixel le niveau de gris ou la couleur est définie à l'aide d'un ou respectivement 3 nombres. Ces nombres sont généralement défini en 8 bits (8 zéros ou uns), ce qui donne un nombre pouvant aller de 0 à 255 compris.\n",
    "\n",
    "Pour commencer nous travaillerons avec des images en niveau de gris. Dans ce cas, chaque pixel est défini par un nombre entier allant de 0 à 255. 0 correspondant au noir et 255 au blanc.\n",
    "\n",
    "## Accès et manipulation des pixels\n",
    "Pour accéder aux valeurs d'un pixel dans une image, c'est à dire aux valeurs dans un tableau à 2 dimensions, on utilise le même outils que pour les listes: on va utiliser des indexes. Avec une liste à une dimension *ma_liste*, on accédera au premier élément grâce aux crochets et à l'index 0 en écrivant *ma_liste[0]*. Pour accéder à un élément d'une image, il faudra spécifier à quelle ligne et quelle colonne nous voulons accéder, par exemple pour accéder au pixel en haut à gauche de l'image *img* on utilisera l'instruction *img[0,0]*. Comme pour toutes les variables, il sera possible d'accéder à cet élément mais aussi de l'affecter:"
   ]
  },
  {
   "cell_type": "code",
   "execution_count": 66,
   "metadata": {},
   "outputs": [
    {
     "name": "stdout",
     "output_type": "stream",
     "text": [
      "0.0\n"
     ]
    }
   ],
   "source": [
    "# accès\n",
    "print(img[0,0])"
   ]
  },
  {
   "cell_type": "code",
   "execution_count": 67,
   "metadata": {},
   "outputs": [
    {
     "name": "stdout",
     "output_type": "stream",
     "text": [
      "255.0\n"
     ]
    },
    {
     "data": {
      "image/png": "[encoded data removed]",
      "text/plain": [
       "<Figure size 432x288 with 1 Axes>"
      ]
     },
     "metadata": {
      "needs_background": "light"
     },
     "output_type": "display_data"
    }
   ],
   "source": [
    "# affectation\n",
    "img[0,0] = 255\n",
    "\n",
    "# affichage du résultat\n",
    "print(img[0,0])\n",
    "\n",
    "plt.imshow(img, cmap='gray',vmin = 0, vmax = 255)\n",
    "plt.show()"
   ]
  },
  {
   "cell_type": "markdown",
   "metadata": {},
   "source": [
    "## Accès au dernier, avant dernier... élément sur un axe\n",
    "\n",
    "Comme nous savons qu'il y a *img.shape[1]* éléments dans une colonne, pour accéder au dernier élément de la première ligne, on pourrait écrire:"
   ]
  },
  {
   "cell_type": "code",
   "execution_count": 68,
   "metadata": {},
   "outputs": [
    {
     "name": "stdout",
     "output_type": "stream",
     "text": [
      "0.0\n"
     ]
    }
   ],
   "source": [
    "print(img[0,img.shape[1]-1])"
   ]
  },
  {
   "cell_type": "markdown",
   "metadata": {},
   "source": [
    "Mais cette instruction est longue et python nous offre avec sa syntaxe quelque chose de plus facile. Pour accéder au dernier élément de ma liste, je écrire l'index -1, pour l'avant dernier -2 ..."
   ]
  },
  {
   "cell_type": "markdown",
   "metadata": {},
   "source": [
    "---\n",
    "### Exercice 2\n",
    "\n",
    "*Changer la couleur d'un pixel en bas à droite de l'image et visualisez le résultat.*\n",
    "\n",
    "---"
   ]
  },
  {
   "cell_type": "markdown",
   "metadata": {},
   "source": [
    "## Accès et manipulation d'une partie de l'image\n",
    "\n",
    "Alors qu'il est possible de manipuler une image pixel par pixel, il est parfois souhaitable d'accéder à une partie de l'image englobant plusieurs pixels, c'est à dire, accéder à une image dans l'image. Voici un exemple de cette outil:"
   ]
  },
  {
   "cell_type": "code",
   "execution_count": 69,
   "metadata": {},
   "outputs": [
    {
     "data": {
      "image/png": "[encoded data removed]",
      "text/plain": [
       "<Figure size 432x288 with 1 Axes>"
      ]
     },
     "metadata": {
      "needs_background": "light"
     },
     "output_type": "display_data"
    }
   ],
   "source": [
    "img[5,2:-2] = 255\n",
    "img[6:7,2:-2] = 128\n",
    "\n",
    "plt.imshow(img, cmap='gray',vmin = 0, vmax = 255)\n",
    "plt.show()"
   ]
  },
  {
   "cell_type": "markdown",
   "metadata": {},
   "source": [
    "---\n",
    "### Exercice 3\n",
    "\n",
    "+ *Faire un flip horizontal ou vertical d'une image dégradée*\n",
    "+ *Définir une fonction `draw_line_h(img,y,x1,x2,gray_level)` qui dessiner une ligne horizontal sur la ligne y de la colonne x1 à la colonne x2 dans l'image img avec l'intensité gray_level. Supposez d'abord que x2 > x1, puis faites en sorte que cela marche même si x2 < x1.*\n",
    "+ *Définir une fonction `isInImage(img,x,y)` qui retourne si un pixel est dans l'image img ou non.*\n",
    "+ *Améliorer la fonction `draw_line_h(img,y,x1,x2,gray_level)` pour qu'elle ne bug pas même si les coordonnées sont en dehors de l'image.*\n",
    "+ *Définir une fonction qui dessiner un rectangle prenant pour argument deux points P1(x1,y1) et P2(x2,y2). On pourra définir une autre fonction intermédiaire. *"
   ]
  },
  {
   "cell_type": "markdown",
   "metadata": {},
   "source": [
    "---\n",
    "### Exercice 4\n",
    "\n",
    "+ *Soit deux points P1(x1,y1) et P2(x2,y2) tel que x2 > x1, y2 > y1 et que x2 - x1 > y2 - y1. Définir une fonction qui draw_line(img,x1,y1,x2,y2,gray_level) qui permet de dessiner une ligne du point P1 au point P2.*\n",
    "+ *Modifier la fonction afin qu'elle marche quelque soit la position des points P1 et P2.*"
   ]
  },
  {
   "cell_type": "markdown",
   "metadata": {},
   "source": [
    "---\n",
    "### Exercice 5\n",
    "\n",
    "*Utiliser les fonctions définies précédemment pour faire un peu d'art abstrait.*"
   ]
  }
 ],
 "metadata": {
  "kernelspec": {
   "display_name": "Python 3",
   "language": "python",
   "name": "python3"
  },
  "language_info": {
   "codemirror_mode": {
    "name": "ipython",
    "version": 3
   },
   "file_extension": ".py",
   "mimetype": "text/x-python",
   "name": "python",
   "nbconvert_exporter": "python",
   "pygments_lexer": "ipython3",
   "version": "3.8.6"
  }
 },
 "nbformat": 4,
 "nbformat_minor": 4
}

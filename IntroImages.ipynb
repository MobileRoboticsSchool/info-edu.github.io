{
 "cells": [
  {
   "cell_type": "markdown",
   "metadata": {},
   "source": [
    "[----> Télécharger le fichier ipynb ici <----](IntroImages.ipynb)\n",
    "\n",
    "# Introduction à la  manipulation d'images test\n",
    "\n",
    "\n",
    "## objectifs\n",
    "\n",
    "L'objectif de ce cours est de vous familiariser aux bases du traitement d'images. L'objectif sera d'abord de découvrir de quelle manière les images sont généralement représentées de façon numérique en programmant des outils permettant de dessiner des motifs simples sur une image. Suite à ça l'objectif sera de réinvestir ces connaissances et compétences dans des exercices de traitement du signal permettant d'aller jusqu'à réaliser de la soustraction de fond dans une séquence d'iamges\n",
    "\n",
    "## Utilisation des librairies standards\n",
    "\n",
    "Pour manipuler des images sur python, il est classique de commencer par utiliser deux librairies."
   ]
  },
  {
   "cell_type": "code",
   "execution_count": 4,
   "metadata": {},
   "outputs": [],
   "source": [
    "import numpy as np # Pour manipuler des tableaux de nombres\n",
    "import matplotlib.pyplot as plt # pour afficher des images"
   ]
  },
  {
   "cell_type": "markdown",
   "metadata": {},
   "source": [
    "Voici un exemple d'utilisation de ces deux libraries:"
   ]
  },
  {
   "cell_type": "code",
   "execution_count": 5,
   "metadata": {},
   "outputs": [],
   "source": [
    "# Creation d'une image noire de taille hauteur x largeur\n",
    "# (oui plus précisément d'un tableau de hauteur x largeur nombres tous égaux à zéros\n",
    "# c'est comme une liste à deux dimensions)\n",
    "hauteur = 24\n",
    "largeur = 32\n",
    "img = np.zeros((hauteur,largeur))"
   ]
  },
  {
   "cell_type": "code",
   "execution_count": 6,
   "metadata": {},
   "outputs": [
    {
     "data": {
      "image/png": "[encoded data removed]",
      "text/plain": [
       "<Figure size 432x288 with 1 Axes>"
      ]
     },
     "metadata": {
      "needs_background": "light"
     },
     "output_type": "display_data"
    }
   ],
   "source": [
    "# Affichage de l'image\n",
    "plt.imshow(img, cmap='gray')\n",
    "plt.show()"
   ]
  },
  {
   "cell_type": "markdown",
   "metadata": {},
   "source": [
    "Remarquez qu'en traitement d'images il est standard de mettre l'origine de l'image en haut à gauche, comme pour les matrices en mathématiques."
   ]
  },
  {
   "cell_type": "markdown",
   "metadata": {},
   "source": [
    "# Représentation des images au format numérique\n",
    "\n",
    "Les images numériques sont représentées de deux façons: soit elles sont pixelisées, soit elles sont au format vectoriel. Ici nous nous intéresserons au format pixelisées. Les images pixelisées sont découpées sous forme d'une grille de pixels, et pour chaque pixel le niveau de gris ou la couleur est défini à l'aide d'un ou respectivement 3 nombres. Ces nombres sont généralement défini en 8 bits (8 zéros ou uns), ce qui donne un nombre pouvant aller de 0 à 255 compris.\n",
    "\n",
    "Pour commencer nous travaillerons avec des images en niveau de gris. Dans ce cas, chaque pixel est défini par un nombre entier allant de 0 à 255. 0 correspondant au noir et 255 au blanc.\n",
    "\n",
    "## Manipulation des pixels\n",
    "Pour accéder aux valeurs d'un pixel dans une image, c'est à dire aux valeurs dans un tableau à 2 dimensions, on utilise le même outils que pour les listes: on va utiliser des indexes. Avec une liste à une dimension *ma_liste*, on accédera au premier élément grâce aux crochets et à l'index 0 en écrivant *ma_liste[0]*. Pour accéder à un élément d'une image, il faudra spécifier à quelle ligne et quelle colonne nous voulons accéder, par exemple pour accéder au pixel en haut à gauche de l'image *img* on utilisera l'instruction *img[0,0]*. Comme pour toutes les variables, il sera possible d'accéder à cet élément mais aussi de l'affecter:"
   ]
  },
  {
   "cell_type": "code",
   "execution_count": 7,
   "metadata": {},
   "outputs": [
    {
     "name": "stdout",
     "output_type": "stream",
     "text": [
      "0.0\n"
     ]
    }
   ],
   "source": [
    "# accès\n",
    "print(img[0,0])"
   ]
  },
  {
   "cell_type": "code",
   "execution_count": 8,
   "metadata": {},
   "outputs": [
    {
     "name": "stdout",
     "output_type": "stream",
     "text": [
      "255.0\n"
     ]
    },
    {
     "data": {
      "image/png": "[encoded data removed]",
      "text/plain": [
       "<Figure size 432x288 with 1 Axes>"
      ]
     },
     "metadata": {
      "needs_background": "light"
     },
     "output_type": "display_data"
    }
   ],
   "source": [
    "# affectation\n",
    "img[0,0] = 255\n",
    "\n",
    "# affichage du résultat\n",
    "print(img[0,0])\n",
    "\n",
    "plt.imshow(img, cmap='gray')\n",
    "plt.show()"
   ]
  },
  {
   "cell_type": "markdown",
   "metadata": {},
   "source": [
    "## <span style=\"color:blue\"> Exercice image monochrome</span>\n",
    "\n",
    "<span style=\"color:blue\"> dessiner une ligne droite avec boucle for </span>\n",
    "<span style=\"color:blue\"> dessiner un dégradé </span>\n",
    "<span style=\"color:blue\"> dessiner un rectangle </span>\n",
    "<span style=\"color:blue\"> définir une fonction qui vérifie is un pixel est dans l'image ou non </span>\n",
    "<span style=\"color:blue\"> dessiner un cercle approximatif </span>\n",
    "<span style=\"color:blue\"> faire un flip horizontal et vertical </span>\n",
    "\n",
    "## <span style=\"color:blue\"> Exercice image couleur</span>\n",
    "\n",
    "Conversion en image monochrome.\n",
    "\n",
    "+ Même chose qu'avec images monochrome.\n",
    "Définir des fonctions qui prenne image monochrome ou couleur et qui prenne la couleur comme argument ou pas (couleur par défaut = blanc)\n",
    "\n",
    "\n",
    "\n"
   ]
  },
  {
   "cell_type": "markdown",
   "metadata": {},
   "source": [
    "# Traitement d'image\n",
    "\n",
    "Introduction à iamgeio\n",
    "\n",
    "image monochrome: \n",
    "\n",
    "+ min et max intensité et réajustement contraste\n",
    "+ Seuil\n",
    "+ Correction de bruit: filtre gaussien et médian\n",
    "\n",
    "séquence d'image:\n",
    "+ trouver le fond\n",
    "+ soustraction de fond\n",
    "+ ajout d'un arrière plan virtuel\n",
    "\n",
    "Aller plus loin: le faire sur des images couleur\n",
    "\n"
   ]
  },
  {
   "cell_type": "code",
   "execution_count": null,
   "metadata": {},
   "outputs": [],
   "source": []
  }
 ],
 "metadata": {
  "kernelspec": {
   "display_name": "Python 3",
   "language": "python",
   "name": "python3"
  },
  "language_info": {
   "codemirror_mode": {
    "name": "ipython",
    "version": 3
   },
   "file_extension": ".py",
   "mimetype": "text/x-python",
   "name": "python",
   "nbconvert_exporter": "python",
   "pygments_lexer": "ipython3",
   "version": "3.8.6"
  }
 },
 "nbformat": 4,
 "nbformat_minor": 4
} 
